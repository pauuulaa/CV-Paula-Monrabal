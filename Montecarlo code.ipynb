{
 "cells": [
  {
   "cell_type": "code",
   "execution_count": 1,
   "id": "3f980ac4-5b49-4d05-b242-0a99d679a147",
   "metadata": {},
   "outputs": [
    {
     "ename": "ModuleNotFoundError",
     "evalue": "No module named 'cv2'",
     "output_type": "error",
     "traceback": [
      "\u001b[0;31m---------------------------------------------------------------------------\u001b[0m",
      "\u001b[0;31mModuleNotFoundError\u001b[0m                       Traceback (most recent call last)",
      "Cell \u001b[0;32mIn[1], line 7\u001b[0m\n\u001b[1;32m      5\u001b[0m \u001b[38;5;28;01mimport\u001b[39;00m \u001b[38;5;21;01mmath\u001b[39;00m\n\u001b[1;32m      6\u001b[0m \u001b[38;5;28;01mimport\u001b[39;00m \u001b[38;5;21;01mrandom\u001b[39;00m\n\u001b[0;32m----> 7\u001b[0m \u001b[38;5;28;01mimport\u001b[39;00m \u001b[38;5;21;01mcv2\u001b[39;00m\n\u001b[1;32m      9\u001b[0m \u001b[38;5;66;03m# CONSTANTES\u001b[39;00m\n\u001b[1;32m     11\u001b[0m TotalPoints \u001b[38;5;241m=\u001b[39m \u001b[38;5;241m300000\u001b[39m\n",
      "\u001b[0;31mModuleNotFoundError\u001b[0m: No module named 'cv2'"
     ]
    }
   ],
   "source": [
    "# LIBRERIAS\n",
    "\n",
    "import numpy as np\n",
    "import matplotlib.pyplot as plt\n",
    "import math\n",
    "import random\n",
    "import cv2\n",
    "\n",
    "# CONSTANTES\n",
    "\n",
    "TotalPoints = 300000\n",
    "Steps = 5\n",
    "\n",
    "#FUNCIONES\n",
    "\n",
    "def RandomPoint():  #Genera puntos aleatorios dentro de la superficie dada\n",
    "    Point = [random.randint(0, Final_Matrix.shape[0] - 1), random.randint(0, Final_Matrix.shape[1] - 1)]\n",
    "    return Point\n",
    "\n",
    "def MontecarloPoints(Num_Points):  #Genera tres listas de puntos y un valor porcentual de la superficie\n",
    "    points = []  #Lista de puntos totales\n",
    "    black_points = []  #Lista de puntos sobre un pixel negro\n",
    "    white_points = []  #Lista de puntos sobre un pixel blanco\n",
    "    for i in range(Num_Points):\n",
    "        points.append(RandomPoint())\n",
    "    for j in points:\n",
    "        if Final_Matrix[j[0]][j[1]] == 0: #Evaluamos el grupo al que pertenece cada punto\n",
    "            black_points.append(j)\n",
    "        else:\n",
    "            white_points.append(j)\n",
    "    surface_estimate = len(white_points)/len(points)  #Estimamos el volumen con un porcentaje respecto al total de puntos\n",
    "    return np.array(points), np.array(black_points), np.array(white_points), surface_estimate\n",
    "\n",
    "Img = cv2.imread(\"img.png\", cv2.IMREAD_GRAYSCALE)  #Abrimos la imagen\n",
    "\n",
    "Final_Img = cv2.flip(cv2.rotate(Img, cv2.ROTATE_180), 90)  #Ajustamos la orientación de la imagen\n",
    "_, Final_Matrix = cv2.threshold(Final_Img, 127, 255, cv2.THRESH_BINARY)\n",
    "\n",
    "points, black_points, white_points, surface_estimate = MontecarloPoints(10)\n",
    "print(\"Puntos Totales:\\n\", points)\n",
    "print(\"Puntos Negros:\\n\", black_points)\n",
    "print(\"Puntos Blancos:\\n\", white_points)\n",
    "print(\"Area Estimada:\\n\", surface_estimate)\n",
    "\n",
    "for i in np.linspace(10, TotalPoints, Steps):  #Graficamos el proceso para varios grupo de puntos hasta llegar al final\n",
    "    points, black_points, white_points, surface_estimate = MontecarloPoints(math.trunc(i))\n",
    "    fig, ax = plt.subplots()\n",
    "    ax.scatter(black_points[:,1], black_points[:,0], color = \"blue\", s = 0.1)\n",
    "    ax.scatter(white_points[:,1], white_points[:,0], color = \"mediumvioletred\", s = 0.1)\n",
    "    ax.set_aspect(\"equal\")\n",
    "    ax.set_title(f\"Points: {i} - Red Surface Estimate: {surface_estimate: .5f}\")\n"
   ]
  },
  {
   "cell_type": "code",
   "execution_count": null,
   "id": "013e115d-a6d0-4704-8b55-1a1013eacc64",
   "metadata": {},
   "outputs": [],
   "source": []
  }
 ],
 "metadata": {
  "kernelspec": {
   "display_name": "Python 3 (ipykernel)",
   "language": "python",
   "name": "python3"
  },
  "language_info": {
   "codemirror_mode": {
    "name": "ipython",
    "version": 3
   },
   "file_extension": ".py",
   "mimetype": "text/x-python",
   "name": "python",
   "nbconvert_exporter": "python",
   "pygments_lexer": "ipython3",
   "version": "3.12.4"
  }
 },
 "nbformat": 4,
 "nbformat_minor": 5
}
